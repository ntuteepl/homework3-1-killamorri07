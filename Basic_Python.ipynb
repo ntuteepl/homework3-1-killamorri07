{
 "cells": [
  {
   "cell_type": "markdown",
   "metadata": {},
   "source": [
    "type edit"
   ]
  },
  {
   "cell_type": "code",
   "execution_count": 1,
   "metadata": {},
   "outputs": [
    {
     "name": "stdout",
     "output_type": "stream",
     "text": [
      "{40, 10, 20, 30}\n",
      "{1.0, (1, 2, 3), 'Hello'}\n",
      "{'h', 'l', 'o', 'e'}\n",
      "<class 'set'>\n",
      "<class 'dict'>\n",
      "{'brand': 'BMW', 'model': '218d Gran Tourer', 'year': 2020}\n",
      "{'ga': 'Irish', 'de': 'German'}\n"
     ]
    }
   ],
   "source": [
    "# set of integers\n",
    "int_set = {10, 20, 30, 40}\n",
    "print(int_set)\n",
    "\n",
    "# set of data with mixed types\n",
    "mixed_set = {1.0, \"Hello\", (1, 2, 3)}\n",
    "print(mixed_set)\n",
    "\n",
    "# set with an input string\n",
    "print(set(\"hello\"))\n",
    "\n",
    "# empty set\n",
    "print(type(set()))\n",
    "print(type({}))\n",
    "\n",
    "# dict constructor\n",
    "car_dict = {\n",
    "  \"brand\": \"BMW\",\n",
    "  \"model\": \"218d Gran Tourer\",\n",
    "  \"year\": 2020\n",
    "}\n",
    "print(car_dict)\n",
    "\n",
    "#the dict constructor accepts a sequence of key-value pairs as a parameter\n",
    "pairs = [('ga', 'Irish'), ('de', 'German')]\n",
    "print(dict(pairs))\n",
    "\n"
   ]
  },
  {
   "cell_type": "markdown",
   "metadata": {},
   "source": [
    "## Control Flow - if"
   ]
  },
  {
   "cell_type": "code",
   "execution_count": 2,
   "metadata": {},
   "outputs": [
    {
     "name": "stdout",
     "output_type": "stream",
     "text": [
      "even\n"
     ]
    }
   ],
   "source": [
    "i=12\n",
    "if ((i%2) == 0):\n",
    "    print(\"even\")\n",
    "else:\n",
    "    print(\"odd\")"
   ]
  },
  {
   "cell_type": "markdown",
   "metadata": {},
   "source": [
    "#### Control Flow - while"
   ]
  },
  {
   "cell_type": "code",
   "execution_count": 12,
   "metadata": {},
   "outputs": [
    {
     "name": "stdout",
     "output_type": "stream",
     "text": [
      "10\n",
      "9\n",
      "8\n",
      "7\n",
      "6\n",
      "5\n",
      "4\n",
      "3\n",
      "2\n",
      "1\n"
     ]
    }
   ],
   "source": [
    "i=10\n",
    "while i>0:\n",
    "    print(i)\n",
    "    i-=1"
   ]
  },
  {
   "cell_type": "markdown",
   "metadata": {},
   "source": [
    "#### Control Flow - for"
   ]
  },
  {
   "cell_type": "code",
   "execution_count": 4,
   "metadata": {},
   "outputs": [
    {
     "name": "stdout",
     "output_type": "stream",
     "text": [
      "10\n",
      "9\n",
      "8\n",
      "7\n",
      "6\n",
      "5\n",
      "4\n",
      "3\n",
      "2\n",
      "1\n"
     ]
    }
   ],
   "source": [
    "for i in range(10,0,-1):\n",
    "    print(i)"
   ]
  },
  {
   "cell_type": "markdown",
   "metadata": {},
   "source": [
    "#### Function - def"
   ]
  },
  {
   "cell_type": "code",
   "execution_count": 13,
   "metadata": {},
   "outputs": [
    {
     "name": "stdout",
     "output_type": "stream",
     "text": [
      "輸入數字\n",
      "6\n",
      "The  6 th Fibonacci number is  8\n"
     ]
    }
   ],
   "source": [
    "def fib(n):\n",
    "    if n < 2:\n",
    "        return n\n",
    "    return fib(n - 2) + fib(n - 1)\n",
    "\n",
    "n = int(input('輸入數字\\n'))\n",
    "print(\"The \", n, \"th Fibonacci number is \",fib(n))"
   ]
  },
  {
   "cell_type": "markdown",
   "metadata": {},
   "source": [
    "#### Function -  Information Passing"
   ]
  },
  {
   "cell_type": "code",
   "execution_count": 14,
   "metadata": {},
   "outputs": [
    {
     "name": "stdout",
     "output_type": "stream",
     "text": [
      "3\n",
      "['A', 'B', 'C', 'C', 'A', 'A', 'F']\n"
     ]
    }
   ],
   "source": [
    "# count.py\n",
    "def count(data, target):\n",
    "    n = 0\n",
    "    for item in data:\n",
    "        if item == target:               # found a match\n",
    "          n += 1\n",
    "    data.append('F')\n",
    "    data=[]\n",
    "    return n\n",
    "\n",
    "grades=['A', 'B', 'C', 'C', 'A', 'A']\n",
    "prizes = count(grades, 'A' )\n",
    "print(prizes)\n",
    "print(grades)"
   ]
  },
  {
   "cell_type": "code",
   "execution_count": 7,
   "metadata": {},
   "outputs": [
    {
     "name": "stdout",
     "output_type": "stream",
     "text": [
      "[3, 2, 4, 5, 7]\n",
      "[9, 6, 12, 15, 21] 3\n"
     ]
    }
   ],
   "source": [
    "# scale.py\n",
    "def scale(data, factor):\n",
    "    for j in range(len(data)):\n",
    "        data[j] *= factor\n",
    "    factor = 4\n",
    "\n",
    "f=3\n",
    "grades=[3,2,4,5,7]\n",
    "print(grades)\n",
    "scaled_grade = scale(grades, f )\n",
    "print(grades,f)"
   ]
  },
  {
   "cell_type": "code",
   "execution_count": 8,
   "metadata": {},
   "outputs": [
    {
     "name": "stdout",
     "output_type": "stream",
     "text": [
      "Welcome to the GPA calculator.\n",
      "Please enter all your letter grades, one per line.\n",
      "Enter a blank line to designate the end.\n",
      "A\n",
      "\n",
      "Your GPA is 4.0\n"
     ]
    }
   ],
   "source": [
    "print('Welcome to the GPA calculator.')\n",
    "print('Please enter all your letter grades, one per line.')\n",
    "print('Enter a blank line to designate the end.')\n",
    "# map from letter grade to point value\n",
    "points = {'A+':4.0, 'A':4.0, 'A-':3.67, 'B+':3.33, 'B':3.0, 'B-':2.67,\n",
    "          'C+':2.33, 'C':2.0, 'C':1.67, 'D+':1.33, 'D':1.0, 'F':0.0}\n",
    "num_courses = 0\n",
    "total_points = 0\n",
    "done = False\n",
    "while not done:\n",
    "  grade = input()                          # read line from user\n",
    "  if grade == '':                          # empty line was entered\n",
    "    done = True\n",
    "  elif grade not in points:                # unrecognized grade entered\n",
    "    print(\"Unknown grade '{0}' being ignored\".format(grade))\n",
    "  else:\n",
    "    num_courses += 1\n",
    "    total_points += points[grade]\n",
    "if num_courses > 0:                        # avoid division by zero\n",
    "  print('Your GPA is {0:.3}'.format(total_points / num_courses))"
   ]
  },
  {
   "cell_type": "code",
   "execution_count": 9,
   "metadata": {},
   "outputs": [
    {
     "name": "stdout",
     "output_type": "stream",
     "text": [
      "Please enter the letter grades to be processed and separate them by spaces:\n",
      "A\n",
      "Your GPA is 4.0\n"
     ]
    }
   ],
   "source": [
    "def compute_gpa(grades, points={'A+':4.0, 'A':4.0, 'A-':3.67, 'B+':3.33,\n",
    "                                'B':3.0, 'B-':2.67,'C+':2.33, 'C':2.0,\n",
    "                                'C':1.67, 'D+':1.33, 'D':1.0, 'F':0.0}):\n",
    "  num_courses = 0\n",
    "  total_points = 0\n",
    "  for g in grades:\n",
    "    if g in points:                      # a recognizable grade\n",
    "      num_courses += 1\n",
    "      total_points += points[g]\n",
    "  return total_points / num_courses\n",
    "\n",
    "print(\"Please enter the letter grades to be processed and separate them by spaces:\")\n",
    "data = [x for x in input().split()]\n",
    "print('Your GPA is {0:.3}'.format(compute_gpa(data)))"
   ]
  },
  {
   "cell_type": "code",
   "execution_count": 10,
   "metadata": {},
   "outputs": [
    {
     "name": "stdout",
     "output_type": "stream",
     "text": [
      "[1, 2, 4, 8, 16]\n"
     ]
    }
   ],
   "source": [
    "def factors(n): # traditional function that computes factors\n",
    "    results = [ ] # store factors in a new list\n",
    "    for k in range(1,n+1):\n",
    "        if n % k == 0: # divides evenly, thus k is a factor\n",
    "            results.append(k) # add k to the list of factors\n",
    "    return results\n",
    "\n",
    "print(factors(16))"
   ]
  },
  {
   "cell_type": "code",
   "execution_count": 11,
   "metadata": {},
   "outputs": [
    {
     "name": "stdout",
     "output_type": "stream",
     "text": [
      "1\n",
      "2\n",
      "4\n",
      "8\n",
      "16\n"
     ]
    }
   ],
   "source": [
    "def gen_factors(n): # generator that computes factors\n",
    "    for k in range(1,n+1):\n",
    "        if n % k == 0: # divides evenly, thus k is a factor\n",
    "            yield k # yield this factor as next result\n",
    "            \n",
    "for j in gen_factors(16):\n",
    "    print(j)"
   ]
  },
  {
   "cell_type": "code",
   "execution_count": null,
   "metadata": {},
   "outputs": [],
   "source": []
  }
 ],
 "metadata": {
  "kernelspec": {
   "display_name": "Python 3",
   "language": "python",
   "name": "python3"
  },
  "language_info": {
   "codemirror_mode": {
    "name": "ipython",
    "version": 3
   },
   "file_extension": ".py",
   "mimetype": "text/x-python",
   "name": "python",
   "nbconvert_exporter": "python",
   "pygments_lexer": "ipython3",
   "version": "3.8.5"
  }
 },
 "nbformat": 4,
 "nbformat_minor": 4
}
